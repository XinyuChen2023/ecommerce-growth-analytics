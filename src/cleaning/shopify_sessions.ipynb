{
 "cells": [
  {
   "cell_type": "code",
   "execution_count": 1,
   "id": "e1cded42",
   "metadata": {},
   "outputs": [],
   "source": [
    "import pandas as pd, json\n",
    "from pathlib import Path\n",
    "\n",
    "# ---------- Parameters ----------\n",
    "INPUT_PATH  = \"../../data/raw/sessions_over_time.csv\"\n",
    "OUTPUT_PATH = \"../../data/clean/sessions_over_time_clean.csv\"\n",
    "SCHEMA_PATH = \"../../data/clean/sessions_over_time_bq_schema.json\"\n"
   ]
  },
  {
   "cell_type": "code",
   "execution_count": 2,
   "id": "eec4f599",
   "metadata": {},
   "outputs": [
    {
     "name": "stdout",
     "output_type": "stream",
     "text": [
      "Raw shape: (80965, 26)\n"
     ]
    }
   ],
   "source": [
    "# ---------- Load ----------\n",
    "df = pd.read_csv(INPUT_PATH, encoding=\"utf-8-sig\")\n",
    "print(\"Raw shape:\", df.shape)\n",
    "\n",
    "# ---------- Drop previous-period columns ----------\n",
    "cols_keep = [c for c in df.columns if \"(previous\" not in c.lower()]\n",
    "df = df[cols_keep]\n",
    "df.columns = df.columns.str.strip()"
   ]
  },
  {
   "cell_type": "code",
   "execution_count": 3,
   "id": "be803d4c",
   "metadata": {},
   "outputs": [],
   "source": [
    "# ---------- Rename core columns ----------\n",
    "rename_map = {\n",
    "    \"Day\": \"date\",\n",
    "    \"Referrer source\": \"referrer_source\",\n",
    "    \"Referrer name\": \"referrer_name\",\n",
    "    \"Referring channel\": \"referring_channel\",\n",
    "    \"Session country\": \"country\",\n",
    "    \"Session country code\": \"country_code\",\n",
    "    \"Session city\": \"city\",\n",
    "    \"Session device type\": \"device_type\",\n",
    "    \"Session duration\": \"session_duration\",\n",
    "    \"Traffic type\": \"traffic_type\",\n",
    "    \"Referrer domain\": \"referrer_domain\",\n",
    "    \"Landing page path\": \"landing_page_path\",\n",
    "    \"Landing page URL\": \"landing_page_url\",\n",
    "    \"Referrer URL\": \"referrer_url\",\n",
    "    \"Session bounced\": \"session_bounced\",\n",
    "    \"Session browser\": \"browser\",\n",
    "    \"Online store visitors\": \"online_store_visitors\",\n",
    "    \"Sessions\": \"sessions\",\n",
    "}\n",
    "df = df.rename(columns={k:v for k,v in rename_map.items() if k in df.columns})\n"
   ]
  },
  {
   "cell_type": "code",
   "execution_count": 4,
   "id": "fe6de471",
   "metadata": {},
   "outputs": [
    {
     "name": "stderr",
     "output_type": "stream",
     "text": [
      "/var/folders/cs/4nrz813n6h55trj0p73l01380000gn/T/ipykernel_10645/2692831092.py:9: FutureWarning: Downcasting object dtype arrays on .fillna, .ffill, .bfill is deprecated and will change in a future version. Call result.infer_objects(copy=False) instead. To opt-in to the future behavior, set `pd.set_option('future.no_silent_downcasting', True)`\n",
      "  df[\"session_bounced\"] = df[\"session_bounced\"].map(bool_map).fillna(False)\n"
     ]
    }
   ],
   "source": [
    "# ---------- Type coercion ----------\n",
    "df[\"date\"] = pd.to_datetime(df[\"date\"], errors=\"coerce\").dt.date\n",
    "for c in [\"online_store_visitors\",\"sessions\",\"session_duration\"]:\n",
    "    if c in df.columns:\n",
    "        df[c] = pd.to_numeric(df[c], errors=\"coerce\").fillna(0).astype(\"int64\")\n",
    "\n",
    "bool_map = {\"TRUE\": True, \"FALSE\": False, \"True\": True, \"False\": False}\n",
    "if \"session_bounced\" in df.columns:\n",
    "    df[\"session_bounced\"] = df[\"session_bounced\"].map(bool_map).fillna(False)\n"
   ]
  },
  {
   "cell_type": "code",
   "execution_count": 5,
   "id": "8af8ba67",
   "metadata": {},
   "outputs": [
    {
     "name": "stdout",
     "output_type": "stream",
     "text": [
      "Dropped redundant column: online_store_visitors (identical to sessions)\n"
     ]
    }
   ],
   "source": [
    "# Drop duplicate metric column\n",
    "if \"online_store_visitors\" in df.columns:\n",
    "    df = df.drop(columns=[\"online_store_visitors\"])\n",
    "    print(\"Dropped redundant column: online_store_visitors (identical to sessions)\")\n"
   ]
  },
  {
   "cell_type": "code",
   "execution_count": 6,
   "id": "46acbd89",
   "metadata": {},
   "outputs": [],
   "source": [
    "df[\"date\"] = pd.to_datetime(df[\"date\"], errors=\"coerce\").dt.date\n",
    "df = df.dropna(subset=[\"date\"])"
   ]
  },
  {
   "cell_type": "code",
   "execution_count": 7,
   "id": "706003d6",
   "metadata": {},
   "outputs": [
    {
     "name": "stdout",
     "output_type": "stream",
     "text": [
      "After cleaning: (80891, 17)\n",
      "         date referrer_source referrer_name referring_channel        country  \\\n",
      "0  2024-10-01          social      facebook          facebook  United States   \n",
      "1  2024-10-01          social      facebook          facebook  United States   \n",
      "2  2024-10-01          social      facebook          facebook      Gibraltar   \n",
      "\n",
      "  country_code        city device_type traffic_type referrer_domain  \\\n",
      "0           US  Saugerties      mobile         paid  l.facebook.com   \n",
      "1           US      Denver     desktop         paid  l.facebook.com   \n",
      "2           GI         NaN     desktop         paid  l.facebook.com   \n",
      "\n",
      "                                   landing_page_path  \\\n",
      "0  /products/myves-food-purification-box-p1-fruit...   \n",
      "1  /products/myves-retro-style-immersion-blender-...   \n",
      "2  /products/myves-retro-style-immersion-blender-...   \n",
      "\n",
      "                                    landing_page_url    referrer_url  \\\n",
      "0  https://myves.com/products/myves-food-purifica...  l.facebook.com   \n",
      "1  https://myves.com/products/myves-retro-style-i...  l.facebook.com   \n",
      "2  https://myves.com/products/myves-retro-style-i...  l.facebook.com   \n",
      "\n",
      "    browser  session_duration  session_bounced  sessions  \n",
      "0  Facebook                 0            False         0  \n",
      "1    Chrome                 0            False         1  \n",
      "2    Chrome                 0            False         1  \n",
      "\n",
      "Nulls:\n",
      " date                     0\n",
      "referrer_source       1143\n",
      "referrer_name        27231\n",
      "referring_channel        0\n",
      "country                 13\n",
      "country_code            68\n",
      "city                 10544\n",
      "device_type              0\n",
      "traffic_type             0\n",
      "referrer_domain      24366\n",
      "landing_page_path        0\n",
      "landing_page_url         0\n",
      "referrer_url         24366\n",
      "browser                  0\n",
      "session_duration         0\n",
      "session_bounced          0\n",
      "sessions                 0\n",
      "dtype: int64\n"
     ]
    }
   ],
   "source": [
    "# ---------- Select relevant analytics columns ----------\n",
    "cols_final = [\n",
    "    \"date\",\"referrer_source\",\"referrer_name\",\"referring_channel\",\n",
    "    \"country\",\"country_code\",\"city\",\"device_type\",\"traffic_type\",\n",
    "    \"referrer_domain\",\"landing_page_path\",\"landing_page_url\",\n",
    "    \"referrer_url\",\"browser\",\"session_duration\",\"session_bounced\",\n",
    "    \"online_store_visitors\",\"sessions\"\n",
    "]\n",
    "df = df[[c for c in cols_final if c in df.columns]].copy()\n",
    "\n",
    "# ---------- Basic QA ----------\n",
    "print(\"After cleaning:\", df.shape)\n",
    "print(df.head(3))\n",
    "print(\"\\nNulls:\\n\", df.isna().sum())\n"
   ]
  },
  {
   "cell_type": "code",
   "execution_count": 8,
   "id": "0f3af65f",
   "metadata": {},
   "outputs": [
    {
     "name": "stdout",
     "output_type": "stream",
     "text": [
      "✅ Saved cleaned CSV → /Users/alvychen/Desktop/Ecommerce_Growth_Analytics/data/clean/sessions_over_time_clean.csv\n"
     ]
    }
   ],
   "source": [
    "# ---------- Save cleaned CSV ----------\n",
    "Path(OUTPUT_PATH).parent.mkdir(parents=True, exist_ok=True)\n",
    "df.to_csv(OUTPUT_PATH, index=False, encoding=\"utf-8\")\n",
    "print(f\"✅ Saved cleaned CSV → {Path(OUTPUT_PATH).resolve()}\")\n"
   ]
  },
  {
   "cell_type": "code",
   "execution_count": 9,
   "id": "b216635c",
   "metadata": {},
   "outputs": [
    {
     "name": "stdout",
     "output_type": "stream",
     "text": [
      "✅ Wrote schema JSON → /Users/alvychen/Desktop/Ecommerce_Growth_Analytics/data/clean/sessions_over_time_bq_schema.json\n"
     ]
    }
   ],
   "source": [
    "# ---------- Emit BigQuery schema ----------\n",
    "schema = [\n",
    "    {\"name\":\"date\",\"type\":\"DATE\",\"mode\":\"NULLABLE\"},\n",
    "    {\"name\":\"referrer_source\",\"type\":\"STRING\",\"mode\":\"NULLABLE\"},\n",
    "    {\"name\":\"referrer_name\",\"type\":\"STRING\",\"mode\":\"NULLABLE\"},\n",
    "    {\"name\":\"referring_channel\",\"type\":\"STRING\",\"mode\":\"NULLABLE\"},\n",
    "    {\"name\":\"country\",\"type\":\"STRING\",\"mode\":\"NULLABLE\"},\n",
    "    {\"name\":\"country_code\",\"type\":\"STRING\",\"mode\":\"NULLABLE\"},\n",
    "    {\"name\":\"city\",\"type\":\"STRING\",\"mode\":\"NULLABLE\"},\n",
    "    {\"name\":\"device_type\",\"type\":\"STRING\",\"mode\":\"NULLABLE\"},\n",
    "    {\"name\":\"traffic_type\",\"type\":\"STRING\",\"mode\":\"NULLABLE\"},\n",
    "    {\"name\":\"referrer_domain\",\"type\":\"STRING\",\"mode\":\"NULLABLE\"},\n",
    "    {\"name\":\"landing_page_path\",\"type\":\"STRING\",\"mode\":\"NULLABLE\"},\n",
    "    {\"name\":\"landing_page_url\",\"type\":\"STRING\",\"mode\":\"NULLABLE\"},\n",
    "    {\"name\":\"referrer_url\",\"type\":\"STRING\",\"mode\":\"NULLABLE\"},\n",
    "    {\"name\":\"browser\",\"type\":\"STRING\",\"mode\":\"NULLABLE\"},\n",
    "    {\"name\":\"session_duration\",\"type\":\"INTEGER\",\"mode\":\"NULLABLE\"},\n",
    "    {\"name\":\"session_bounced\",\"type\":\"BOOLEAN\",\"mode\":\"NULLABLE\"},\n",
    "    {\"name\":\"online_store_visitors\",\"type\":\"INTEGER\",\"mode\":\"NULLABLE\"},\n",
    "    {\"name\":\"sessions\",\"type\":\"INTEGER\",\"mode\":\"NULLABLE\"},\n",
    "]\n",
    "Path(SCHEMA_PATH).write_text(json.dumps(schema, indent=2), encoding=\"utf-8\")\n",
    "print(f\"✅ Wrote schema JSON → {Path(SCHEMA_PATH).resolve()}\")"
   ]
  },
  {
   "cell_type": "code",
   "execution_count": null,
   "id": "dc006d13",
   "metadata": {},
   "outputs": [],
   "source": []
  }
 ],
 "metadata": {
  "kernelspec": {
   "display_name": "venv",
   "language": "python",
   "name": "python3"
  },
  "language_info": {
   "codemirror_mode": {
    "name": "ipython",
    "version": 3
   },
   "file_extension": ".py",
   "mimetype": "text/x-python",
   "name": "python",
   "nbconvert_exporter": "python",
   "pygments_lexer": "ipython3",
   "version": "3.12.5"
  }
 },
 "nbformat": 4,
 "nbformat_minor": 5
}
